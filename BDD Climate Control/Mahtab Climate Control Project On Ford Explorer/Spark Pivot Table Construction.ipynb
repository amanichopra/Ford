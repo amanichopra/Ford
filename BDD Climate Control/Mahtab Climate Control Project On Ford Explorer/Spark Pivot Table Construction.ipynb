{
 "cells": [
  {
   "cell_type": "code",
   "execution_count": 1,
   "metadata": {},
   "outputs": [],
   "source": [
    "from pyspark_llap.sql.session import HiveWarehouseSession\n",
    "from pyspark.sql import SparkSession\n",
    "#spark = SparkSession.builder.appName(\"LLAP_Test\").enableHiveSupport().config(\"spark.sql.hive.llap\", \"true\").getOrCreate()\n",
    "spark = SparkSession.builder.appName(\"Hive_ACID_warehouseconnector\").enableHiveSupport().getOrCreate()\n",
    "hive = HiveWarehouseSession.session(spark).build()"
   ]
  },
  {
   "cell_type": "code",
   "execution_count": 2,
   "metadata": {},
   "outputs": [],
   "source": [
    "from pyspark.sql.functions import udf, col, lit, array\n",
    "import pyspark.sql.functions as F\n",
    "from pyspark.sql import Row\n",
    "from pyspark.sql.types import StructType, StructField, IntegerType, StringType, DateType, FloatType\n",
    "\n",
    "import time\n",
    "import pandas as pd\n",
    "import numpy as np\n",
    "import datetime\n",
    "import math\n",
    "import scipy\n",
    "import matplotlib.pyplot as plt\n",
    "import statsmodels.api as sm\n",
    "import statsmodels.formula.api as smf\n",
    "import statsmodels\n",
    "import subprocess\n",
    "import sys\n",
    "import pyspark.sql as SQL\n",
    "from pyspark.sql.functions import concat_ws\n",
    "from pyspark.sql.functions import avg\n",
    "from pyspark import SparkConf\n",
    "from pyspark.sql import HiveContext\n",
    "from pyspark import SparkContext\n",
    "from pyspark.sql.functions import col,row_number\n",
    "from pyspark.sql.types import *\n",
    "from pyspark import SparkContext, SparkConf\n",
    "from pyspark.sql import SQLContext\n",
    "from pyspark.sql import SparkSession\n",
    "from pyspark.sql.functions import col, udf\n",
    "import pyspark.sql.functions as F\n",
    "from pyspark.sql.window import Window\n",
    "from pyspark.sql.types import Row\n",
    "from pyspark.sql.functions import to_timestamp,unix_timestamp,from_unixtime\n",
    "from pyspark.sql.types import DoubleType, FloatType, BooleanType, LongType, IntegerType, TimestampType, StringType, StructType, StructField, ArrayType\n",
    "\n",
    "sqlContext.setConf(\"spark.sql.shuffle.partitions\", \"2500\")\n",
    "# pd.set_option('display.max_colwidth', -1)"
   ]
  },
  {
   "cell_type": "code",
   "execution_count": 3,
   "metadata": {},
   "outputs": [],
   "source": [
    "hiveQuery = \"SELECT * from mfard_data.CCBDDF150 where cvdcus_dcd_sig_n_x_3 IN ('BrkTot_Tq_Actl', 'AirCondFluidHi_P_Actl',\\\n",
    "'Ignition_Status','Outside_Air_Temp_Stat', 'VehLong2_A_Actl', 'BattULo_U_Actl', 'CoolantFanStepAct', 'ApedPos_Pc_ActlArb', \\\n",
    "'HvacBlwrFront_D_Stat', 'OdometerMasterValue', 'HvacEvap_Te_Rq', 'HvacAirCond_B_Rq','EngAout_N_Actl','AirAmb_Te_ActlFilt',\\\n",
    "'Veh_V_ActlEng', 'GearLvrPos_D_Actl', 'HvacEvap_Te_Actl')\""
   ]
  },
  {
   "cell_type": "code",
   "execution_count": 4,
   "metadata": {},
   "outputs": [
    {
     "name": "stdout",
     "output_type": "stream",
     "text": [
      "+-----------------+-------------------------+--------------------+--------------------------+\n",
      "|cvdcus_vin_d_3   |cvdcus_timestamp_s_3     |cvdcus_dcd_sig_n_x_3|cvdcus_dcd_sig_val_str_x_3|\n",
      "+-----------------+-------------------------+--------------------+--------------------------+\n",
      "|1FTEW1C53KFB01079|2019-07-17 22:34:41.0693 |ApedPos_Pc_ActlArb  |0.0                       |\n",
      "|1FTEW1C53KFB01079|2019-07-17 22:34:41.0693 |EngAout_N_Actl      |0.0                       |\n",
      "|1FTEW1C53KFB01079|2019-07-17 22:34:41.07243|Veh_V_ActlEng       |0.00                      |\n",
      "|1FTEW1C53KFB01079|2019-07-17 22:34:41.07264|EngAout_N_Actl      |0.0                       |\n",
      "|1FTEW1C53KFB01079|2019-07-17 22:34:41.07264|ApedPos_Pc_ActlArb  |0.0                       |\n",
      "|1FTEW1C53KFB01079|2019-07-17 22:34:41.07391|BattULo_U_Actl      |12.6250                   |\n",
      "|1FTEW1C53KFB01079|2019-07-17 22:34:41.07537|EngAout_N_Actl      |0.0                       |\n",
      "|1FTEW1C53KFB01079|2019-07-17 22:34:41.07537|ApedPos_Pc_ActlArb  |0.0                       |\n",
      "|1FTEW1C53KFB01079|2019-07-17 22:34:41.17018|BrkTot_Tq_Actl      |0.0                       |\n",
      "|1FTEW1C53KFB01079|2019-07-17 22:34:41.17083|HvacEvap_Te_Actl    |8.500                     |\n",
      "|1FTEW1C53KFB01079|2019-07-17 22:34:41.17083|HvacEvap_Te_Rq      |0.000                     |\n",
      "|1FTEW1C53KFB01079|2019-07-17 22:34:41.17083|HvacAirCond_B_Rq    |No                        |\n",
      "|1FTEW1C53KFB01079|2019-07-17 22:34:41.17153|EngAout_N_Actl      |0.0                       |\n",
      "|1FTEW1C53KFB01079|2019-07-17 22:34:41.17153|ApedPos_Pc_ActlArb  |0.0                       |\n",
      "|1FTEW1C53KFB01079|2019-07-17 22:34:41.2995 |EngAout_N_Actl      |0.0                       |\n",
      "|1FTEW1C53KFB01079|2019-07-17 22:34:41.2995 |ApedPos_Pc_ActlArb  |0.0                       |\n",
      "|1FTEW1C53KFB01079|2019-07-17 22:34:41.30459|BattULo_U_Actl      |12.6250                   |\n",
      "|1FTEW1C53KFB01079|2019-07-17 22:34:41.33543|ApedPos_Pc_ActlArb  |0.0                       |\n",
      "|1FTEW1C53KFB01079|2019-07-17 22:34:41.33543|EngAout_N_Actl      |0.0                       |\n",
      "|1FTEW1C53KFB01079|2019-07-17 22:34:41.37782|BattULo_U_Actl      |12.6250                   |\n",
      "+-----------------+-------------------------+--------------------+--------------------------+\n",
      "only showing top 20 rows\n",
      "\n"
     ]
    }
   ],
   "source": [
    "BDD_F150_2019 = spark.sql(hiveQuery)\n",
    "BDD_F150_2019.show(20, False)"
   ]
  },
  {
   "cell_type": "code",
   "execution_count": 5,
   "metadata": {},
   "outputs": [
    {
     "data": {
      "text/plain": [
       "[('cvdcus_vin_d_3', 'string'),\n",
       " ('cvdcus_timestamp_s_3', 'timestamp'),\n",
       " ('cvdcus_dcd_sig_n_x_3', 'string'),\n",
       " ('cvdcus_dcd_sig_val_str_x_3', 'string')]"
      ]
     },
     "execution_count": 5,
     "metadata": {},
     "output_type": "execute_result"
    }
   ],
   "source": [
    "BDD_F150_2019.dtypes"
   ]
  },
  {
   "cell_type": "code",
   "execution_count": 6,
   "metadata": {},
   "outputs": [
    {
     "data": {
      "text/plain": [
       "[Row(cvdcus_dcd_sig_n_x_3='BrkTot_Tq_Actl'),\n",
       " Row(cvdcus_dcd_sig_n_x_3='AirCondFluidHi_P_Actl'),\n",
       " Row(cvdcus_dcd_sig_n_x_3='Ignition_Status'),\n",
       " Row(cvdcus_dcd_sig_n_x_3='Outside_Air_Temp_Stat'),\n",
       " Row(cvdcus_dcd_sig_n_x_3='VehLong2_A_Actl'),\n",
       " Row(cvdcus_dcd_sig_n_x_3='BattULo_U_Actl'),\n",
       " Row(cvdcus_dcd_sig_n_x_3='CoolantFanStepAct'),\n",
       " Row(cvdcus_dcd_sig_n_x_3='ApedPos_Pc_ActlArb'),\n",
       " Row(cvdcus_dcd_sig_n_x_3='HvacBlwrFront_D_Stat'),\n",
       " Row(cvdcus_dcd_sig_n_x_3='OdometerMasterValue'),\n",
       " Row(cvdcus_dcd_sig_n_x_3='HvacEvap_Te_Rq'),\n",
       " Row(cvdcus_dcd_sig_n_x_3='HvacAirCond_B_Rq'),\n",
       " Row(cvdcus_dcd_sig_n_x_3='EngAout_N_Actl'),\n",
       " Row(cvdcus_dcd_sig_n_x_3='AirAmb_Te_ActlFilt'),\n",
       " Row(cvdcus_dcd_sig_n_x_3='Veh_V_ActlEng'),\n",
       " Row(cvdcus_dcd_sig_n_x_3='GearLvrPos_D_Actl'),\n",
       " Row(cvdcus_dcd_sig_n_x_3='HvacEvap_Te_Actl')]"
      ]
     },
     "execution_count": 6,
     "metadata": {},
     "output_type": "execute_result"
    }
   ],
   "source": [
    "# list of the unique values of column = cvdcus_dcd_sig_n_x_3\n",
    "# BDD_F150_2019.select('cvdcus_dcd_sig_n_x_3').distinct().rdd.map(lambda r: r[0]).collect()\n",
    "\n",
    "# another way\n",
    "BDD_F150_2019.select('cvdcus_dcd_sig_n_x_3').distinct().collect()"
   ]
  },
  {
   "cell_type": "code",
   "execution_count": 7,
   "metadata": {},
   "outputs": [
    {
     "name": "stdout",
     "output_type": "stream",
     "text": [
      "+-----------------+----------+-------------------+-----------------+\n",
      "|cvdcus_vin_d_3   |epoch     |signal_name        |signal_value     |\n",
      "+-----------------+----------+-------------------+-----------------+\n",
      "|1FTEW1C42KKC86661|1560597070|OdometerMasterValue|7640.0           |\n",
      "|1FTEW1C42KKC86661|1560597070|GearLvrPos_D_Actl  |Park             |\n",
      "|1FTEW1C42KKC86661|1560597070|HvacEvap_Te_Rq     |6.5              |\n",
      "|1FTEW1C42KKC86661|1560597070|BattULo_U_Actl     |13.5625          |\n",
      "|1FTEW1C42KKC86661|1560597070|EngAout_N_Actl     |617.0909090909091|\n",
      "|1FTEW1C42KKC86661|1560597070|HvacAirCond_B_Rq   |Yes              |\n",
      "|1FTEW1C42KKC86661|1560597070|HvacEvap_Te_Actl   |5.875            |\n",
      "|1FTEW1C42KKC86661|1560597070|AirAmb_Te_ActlFilt |21.5             |\n",
      "|1FTEW1C42KKC86661|1560597070|ApedPos_Pc_ActlArb |0.0              |\n",
      "|1FTEW1C42KKC86661|1560597070|BrkTot_Tq_Actl     |0.0              |\n",
      "+-----------------+----------+-------------------+-----------------+\n",
      "only showing top 10 rows\n",
      "\n"
     ]
    }
   ],
   "source": [
    "# BDD for MY20\n",
    "# READ BDD SIGNALS\n",
    "signal = BDD_F150_2019\\\n",
    ".withColumn('epoch', unix_timestamp(\"cvdcus_timestamp_s_3\").cast(\"long\"))\\\n",
    ".orderBy(['epoch'])\\\n",
    ".groupBy('cvdcus_vin_d_3','epoch','cvdcus_dcd_sig_n_x_3')\\\n",
    ".agg(F.avg('cvdcus_dcd_sig_val_str_x_3').alias('avg'),F.max('cvdcus_dcd_sig_val_str_x_3').alias('max'))\\\n",
    ".orderBy(['cvdcus_vin_d_3','epoch'])\\\n",
    ".select('cvdcus_vin_d_3','epoch',F.col('cvdcus_dcd_sig_n_x_3').alias('signal_name'),F.coalesce('avg','max').alias('signal_value'))\\\n",
    ".drop('avg','max')\\\n",
    "\n",
    "signal.show(10, False)"
   ]
  },
  {
   "cell_type": "code",
   "execution_count": 8,
   "metadata": {},
   "outputs": [],
   "source": [
    "signal2=signal\\\n",
    ".groupBy('cvdcus_vin_d_3','epoch')\\\n",
    ".pivot('signal_name')\\\n",
    ".agg(F.max('signal_value'))\\\n",
    ".orderBy(['cvdcus_vin_d_3','epoch'])\\"
   ]
  },
  {
   "cell_type": "code",
   "execution_count": 9,
   "metadata": {},
   "outputs": [
    {
     "name": "stdout",
     "output_type": "stream",
     "text": [
      "+-----------------+----------+------------------+---------------------+------------------+--------------+--------------+-----------------+-----------------+-----------------+----------------+--------------------+----------------+--------------+---------------+-------------------+---------------------+--------------------+-------------+\n",
      "|cvdcus_vin_d_3   |epoch     |AirAmb_Te_ActlFilt|AirCondFluidHi_P_Actl|ApedPos_Pc_ActlArb|BattULo_U_Actl|BrkTot_Tq_Actl|CoolantFanStepAct|EngAout_N_Actl   |GearLvrPos_D_Actl|HvacAirCond_B_Rq|HvacBlwrFront_D_Stat|HvacEvap_Te_Actl|HvacEvap_Te_Rq|Ignition_Status|OdometerMasterValue|Outside_Air_Temp_Stat|VehLong2_A_Actl     |Veh_V_ActlEng|\n",
      "+-----------------+----------+------------------+---------------------+------------------+--------------+--------------+-----------------+-----------------+-----------------+----------------+--------------------+----------------+--------------+---------------+-------------------+---------------------+--------------------+-------------+\n",
      "|1FTEW1C42KKC86661|1560597070|21.5              |null                 |0.0               |13.5625       |0.0           |null             |617.0909090909091|Park             |Yes             |null                |5.875           |6.5           |null           |7640.0             |20.0                 |-0.06941176470588237|0.0          |\n",
      "|1FTEW1C42KKC86661|1560597071|21.5              |7.3125               |0.0               |13.5625       |0.0           |Step5            |623.5833333333334|Park             |Yes             |null                |6.0             |6.5           |Run            |7640.0             |20.0                 |-0.07833333333333335|0.0          |\n",
      "|1FTEW1C42KKC86661|1560597072|null              |7.375                |0.0               |13.5625       |0.0           |Step5            |635.1            |Park             |Yes             |null                |6.0             |6.5           |Run            |7640.0             |20.0                 |-0.07062500000000001|0.0          |\n",
      "|1FTEW1C42KKC86661|1560597073|null              |7.375                |0.0               |13.5625       |0.0           |Step5            |620.125          |Park             |Yes             |30_Percent          |6.0             |6.5           |Run            |7640.0             |20.0                 |-0.07615384615384614|0.0          |\n",
      "|1FTEW1C42KKC86661|1560597074|21.5              |7.375                |0.0               |13.5625       |0.0           |Step5            |622.0            |Park             |Yes             |30_Percent          |6.0             |6.5           |Run            |7640.0             |20.0                 |-0.07416666666666667|0.0          |\n",
      "|1FTEW1C42KKC86661|1560597075|21.5              |7.375                |0.0               |13.5625       |0.0           |Step5            |625.4117647058823|Park             |Yes             |null                |6.125           |6.5           |null           |7640.0             |20.0                 |-0.06266666666666668|0.0          |\n",
      "|1FTEW1C42KKC86661|1560597076|21.5              |7.375                |0.0               |13.5625       |0.0           |Step5            |620.0            |Park             |null            |null                |null            |null          |Run            |7640.0             |20.0                 |-0.072              |0.0          |\n",
      "|1FTEW1C42KKC86661|1560597077|21.5              |7.375                |0.0               |13.5625       |0.0           |Step5            |623.7857142857143|Park             |null            |null                |null            |null          |null           |7640.0             |20.0                 |-0.07216216216216219|0.0          |\n",
      "|1FTEW1C42KKC86661|1560597078|null              |7.40625              |0.0               |13.5625       |0.0           |Step5            |630.16           |Park             |Yes             |null                |6.25            |6.5           |Run            |7640.0             |20.0                 |-0.07333333333333333|0.0          |\n",
      "|1FTEW1C42KKC86661|1560597079|21.75             |null                 |0.0               |13.5625       |0.0           |null             |625.9130434782609|Park             |Yes             |null                |6.25            |6.5           |null           |7640.0             |20.0                 |-0.06964285714285719|0.0          |\n",
      "+-----------------+----------+------------------+---------------------+------------------+--------------+--------------+-----------------+-----------------+-----------------+----------------+--------------------+----------------+--------------+---------------+-------------------+---------------------+--------------------+-------------+\n",
      "only showing top 10 rows\n",
      "\n"
     ]
    }
   ],
   "source": [
    "signal2.show(10, False)"
   ]
  },
  {
   "cell_type": "code",
   "execution_count": 23,
   "metadata": {},
   "outputs": [
    {
     "data": {
      "text/plain": [
       "7628887"
      ]
     },
     "execution_count": 23,
     "metadata": {},
     "output_type": "execute_result"
    }
   ],
   "source": [
    "signal2.count()"
   ]
  },
  {
   "cell_type": "code",
   "execution_count": 25,
   "metadata": {},
   "outputs": [],
   "source": [
    "mydf=signal2.toPandas()"
   ]
  },
  {
   "cell_type": "code",
   "execution_count": 27,
   "metadata": {},
   "outputs": [],
   "source": [
    "mydf.to_csv(r'/s/mfard/myfile.csv', index = False)\n",
    "\n",
    "# to_parquet('/s/mfard/myfile.parquet')"
   ]
  },
  {
   "cell_type": "code",
   "execution_count": null,
   "metadata": {},
   "outputs": [],
   "source": []
  }
 ],
 "metadata": {
  "kernelspec": {
   "display_name": "Python 3",
   "language": "python",
   "name": "python3"
  },
  "language_info": {
   "codemirror_mode": {
    "name": "ipython",
    "version": 3
   },
   "file_extension": ".py",
   "mimetype": "text/x-python",
   "name": "python",
   "nbconvert_exporter": "python",
   "pygments_lexer": "ipython3",
   "version": "3.6.8"
  }
 },
 "nbformat": 4,
 "nbformat_minor": 2
}
