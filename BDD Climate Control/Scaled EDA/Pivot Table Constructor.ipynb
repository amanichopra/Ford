{
 "cells": [
  {
   "cell_type": "markdown",
   "metadata": {},
   "source": [
    "# Pivot Table Construction"
   ]
  },
  {
   "cell_type": "markdown",
   "metadata": {},
   "source": [
    "In this notebook"
   ]
  },
  {
   "cell_type": "markdown",
   "metadata": {},
   "source": [
    "```beeline --outputformat=csv2 -e \"SELECT cvdcus_timestamp_s_3, cvdcus_dcd_sig_n_x_3, cvdcus_dcd_sig_val_str_x_3 FROM cvdp.ncvdcus_bdd_dcd_child_sec_f150_my2019_to_my2020_vw WHERE cvdcus_vin_d_3 == '1FTEW1E45KFA14370' AND cvdcus_dcd_sig_n_x_3 IN ('AirAmb_Te_ActlFilt', 'Outside_Air_Temp_Stat', 'HvacEvap_Te_Actl', 'HvacEvap_Te_Rq', 'AirCondFluidHi_P_Actl', 'CoolantFanStepAct', 'VehLong2_A_Actl', 'HvacAirCond_B_Rq', 'Veh_V_ActlEng', 'ApedPos_Pc_ActlArb', 'EngAout_N_Actl', 'HvacBlwrFront_D_Stat', 'BattULo_U_Actl', 'GearLvrPos_D_Actl', 'Ignition_Status', 'BrkTot_Tq_Actl', 'OdometerMasterValue') AND cvdcus_timestamp_s_3 BETWEEN '2019-05-01' and '2019-08-30' ORDER BY cvdcus_timestamp_s_3\" > /u/achopra8/2019f150VIN1FTEW1E45KFA14370.csv```"
   ]
  },
  {
   "cell_type": "markdown",
   "metadata": {},
   "source": [
    "```beeline --outputformat=csv2 -e \"SELECT cvdcus_timestamp_s_3, cvdcus_dcd_sig_n_x_3, cvdcus_dcd_sig_val_str_x_3 FROM cvdp.ncvdcus_bdd_dcd_child_sec_f150_my2019_to_my2020_vw WHERE cvdcus_vin_d_3 == '1FTEW1E54KFA50916' AND cvdcus_dcd_sig_n_x_3 IN ('AirAmb_Te_ActlFilt', 'Outside_Air_Temp_Stat', 'HvacEvap_Te_Actl', 'HvacEvap_Te_Rq', 'AirCondFluidHi_P_Actl', 'CoolantFanStepAct', 'VehLong2_A_Actl', 'HvacAirCond_B_Rq', 'Veh_V_ActlEng', 'ApedPos_Pc_ActlArb', 'EngAout_N_Actl', 'HvacBlwrFront_D_Stat', 'BattULo_U_Actl', 'GearLvrPos_D_Actl', 'Ignition_Status', 'BrkTot_Tq_Actl', 'OdometerMasterValue') AND cvdcus_timestamp_s_3 BETWEEN '2019-05-01' and '2019-08-30' ORDER BY cvdcus_timestamp_s_3\" > /u/achopra8/2019f150VIN1FTEW1E54KFA50916.csv```"
   ]
  },
  {
   "cell_type": "code",
   "execution_count": 112,
   "metadata": {},
   "outputs": [],
   "source": [
    "signals = ['AirAmb_Te_ActlFilt',\n",
    " 'Outside_Air_Temp_Stat',\n",
    " 'HvacEvap_Te_Actl',\n",
    " 'HvacEvap_Te_Rq',\n",
    " 'AirCondFluidHi_P_Actl',\n",
    " 'CoolantFanStepAct',\n",
    " 'VehLong2_A_Actl',\n",
    " 'HvacAirCond_B_Rq',\n",
    " 'Veh_V_ActlEng',\n",
    " 'ApedPos_Pc_ActlArb',\n",
    " 'EngAout_N_Actl',\n",
    " 'HvacBlwrFront_D_Stat',\n",
    " 'BattULo_U_Actl',\n",
    " 'GearLvrPos_D_Actl',\n",
    " 'Ignition_Status',\n",
    " 'BrkTot_Tq_Actl',\n",
    " 'OdometerMasterValue']\n",
    "dtypes = [str if i in [5, 7, 11, 13] else float for i in range(len(signals))]\n",
    "agg_funcs = ['mean' if dtype == float else pd.Series.mode for dtype in dtypes] # functions to aggregate each signal by"
   ]
  },
  {
   "cell_type": "code",
   "execution_count": 1,
   "metadata": {},
   "outputs": [],
   "source": [
    "import pandas as pd"
   ]
  },
  {
   "cell_type": "code",
   "execution_count": 232,
   "metadata": {},
   "outputs": [
    {
     "name": "stdout",
     "output_type": "stream",
     "text": [
      "<class 'pandas.core.frame.DataFrame'>\n",
      "RangeIndex: 20000000 entries, 0 to 19999999\n",
      "Data columns (total 4 columns):\n",
      " #   Column                      Dtype \n",
      "---  ------                      ----- \n",
      " 0   cvdcus_vin_d_3              object\n",
      " 1   cvdcus_timestamp_s_3        object\n",
      " 2   cvdcus_dcd_sig_n_x_3        object\n",
      " 3   cvdcus_dcd_sig_val_str_x_3  object\n",
      "dtypes: object(4)\n",
      "memory usage: 610.4+ MB\n"
     ]
    }
   ],
   "source": [
    "df = pd.read_csv(r'C:\\Users\\achopra8\\Downloads\\2019f150VIN1FTEW1E49KFA29535.csv', nrows=20000000)\n",
    "df.info()"
   ]
  },
  {
   "cell_type": "code",
   "execution_count": 233,
   "metadata": {},
   "outputs": [],
   "source": [
    "df['cvdcus_timestamp_s_3'] = df['cvdcus_timestamp_s_3'].astype('datetime64[ns]') # ensure timestamps are in datetime format\n",
    "df['cvdcus_timestamp_s_3'] = df['cvdcus_timestamp_s_3'].dt.round('1s') # round to nearest second"
   ]
  },
  {
   "cell_type": "code",
   "execution_count": 234,
   "metadata": {},
   "outputs": [
    {
     "name": "stderr",
     "output_type": "stream",
     "text": [
      "C:\\Users\\achopra8\\Anaconda3\\lib\\site-packages\\ipykernel_launcher.py:8: SettingWithCopyWarning: \n",
      "A value is trying to be set on a copy of a slice from a DataFrame.\n",
      "Try using .loc[row_indexer,col_indexer] = value instead\n",
      "\n",
      "See the caveats in the documentation: https://pandas.pydata.org/pandas-docs/stable/user_guide/indexing.html#returning-a-view-versus-a-copy\n",
      "  \n"
     ]
    }
   ],
   "source": [
    "def df_by_sig(df, signals=signals, dtypes=dtypes, agg_funcs=agg_funcs):\n",
    "    grouped_by_sig = []\n",
    "    invalid_sig = []\n",
    "    invalid_val = []\n",
    "    for i in range(len(signals)):\n",
    "        try:\n",
    "            temp = df[df['cvdcus_dcd_sig_n_x_3'] == signals[i]]\n",
    "            temp['cvdcus_dcd_sig_val_str_x_3'] = temp['cvdcus_dcd_sig_val_str_x_3'].astype(dtypes[i])\n",
    "            temp = temp.groupby(['cvdcus_timestamp_s_3', 'cvdcus_dcd_sig_n_x_3']).agg(agg_funcs[i]).reset_index()\n",
    "            temp = temp.rename(columns={'cvdcus_dcd_sig_val_str_x_3':temp['cvdcus_dcd_sig_n_x_3'].iloc[0]}).drop('cvdcus_dcd_sig_n_x_3', axis=1)\n",
    "            grouped_by_sig.append(temp)\n",
    "        except ValueError as err:\n",
    "            err = str(err)\n",
    "            invalid_sig.append(signals[i])\n",
    "            invalid_val.append(err[err.index(\"'\") + 1:-1])\n",
    "    return grouped_by_sig, invalid_sig, invalid_val\n",
    "\n",
    "dfs_grouped_by_sig, invalid_sig, invalid_val = df_by_sig(df)\n",
    "if invalid_sig:\n",
    "    df = df.drop(df[(df['cvdcus_dcd_sig_n_x_3'].isin(invalid_sig)) & (df['cvdcus_dcd_sig_val_str_x_3'].isin(invalid_val))].index).reset_index(drop=True)\n",
    "    dfs_grouped_by_sig = df_by_sig(df)[0]"
   ]
  },
  {
   "cell_type": "code",
   "execution_count": 235,
   "metadata": {},
   "outputs": [],
   "source": [
    "# make pivot table\n",
    "pivotted = pd.concat([df.set_index('cvdcus_timestamp_s_3') for df in dfs_grouped_by_sig], axis=1).reset_index()\n",
    "pivotted['epoch'] = pivotted['cvdcus_timestamp_s_3'].astype('int64')/1e9\n",
    "cols = pivotted.columns.to_list()\n",
    "pivotted = pivotted[[cols[0]] + [cols[-1]] + cols[1:-1]]\n",
    "\n",
    "for signal, dtype in zip(signals, dtypes):\n",
    "    if signal == 'Ignition_Status':\n",
    "        continue\n",
    "    pivotted[signal] = pivotted[signal].astype(dtype)\n",
    "pivotted = pivotted.replace({r\"\\['(\\w+)'.*\": r'\\1'}, regex=True) # choose one mode when > 1 present\n",
    "pivotted = pivotted.replace({'nan':float('nan')})"
   ]
  },
  {
   "cell_type": "code",
   "execution_count": 241,
   "metadata": {},
   "outputs": [
    {
     "name": "stderr",
     "output_type": "stream",
     "text": [
      "C:\\Users\\achopra8\\Anaconda3\\lib\\site-packages\\ipykernel_launcher.py:2: SettingWithCopyWarning: \n",
      "A value is trying to be set on a copy of a slice from a DataFrame.\n",
      "Try using .loc[row_indexer,col_indexer] = value instead\n",
      "\n",
      "See the caveats in the documentation: https://pandas.pydata.org/pandas-docs/stable/user_guide/indexing.html#returning-a-view-versus-a-copy\n",
      "  \n",
      "C:\\Users\\achopra8\\Anaconda3\\lib\\site-packages\\ipykernel_launcher.py:7: SettingWithCopyWarning: \n",
      "A value is trying to be set on a copy of a slice from a DataFrame.\n",
      "Try using .loc[row_indexer,col_indexer] = value instead\n",
      "\n",
      "See the caveats in the documentation: https://pandas.pydata.org/pandas-docs/stable/user_guide/indexing.html#returning-a-view-versus-a-copy\n",
      "  import sys\n",
      "C:\\Users\\achopra8\\Anaconda3\\lib\\site-packages\\pandas\\core\\indexing.py:965: SettingWithCopyWarning: \n",
      "A value is trying to be set on a copy of a slice from a DataFrame.\n",
      "Try using .loc[row_indexer,col_indexer] = value instead\n",
      "\n",
      "See the caveats in the documentation: https://pandas.pydata.org/pandas-docs/stable/user_guide/indexing.html#returning-a-view-versus-a-copy\n",
      "  self.obj[item] = s\n",
      "C:\\Users\\achopra8\\Anaconda3\\lib\\site-packages\\ipykernel_launcher.py:17: SettingWithCopyWarning: \n",
      "A value is trying to be set on a copy of a slice from a DataFrame.\n",
      "Try using .loc[row_indexer,col_indexer] = value instead\n",
      "\n",
      "See the caveats in the documentation: https://pandas.pydata.org/pandas-docs/stable/user_guide/indexing.html#returning-a-view-versus-a-copy\n",
      "C:\\Users\\achopra8\\Anaconda3\\lib\\site-packages\\ipykernel_launcher.py:18: SettingWithCopyWarning: \n",
      "A value is trying to be set on a copy of a slice from a DataFrame.\n",
      "Try using .loc[row_indexer,col_indexer] = value instead\n",
      "\n",
      "See the caveats in the documentation: https://pandas.pydata.org/pandas-docs/stable/user_guide/indexing.html#returning-a-view-versus-a-copy\n"
     ]
    }
   ],
   "source": [
    "# calc epoch diff to define trip\n",
    "pivotted['epoch_diff'] = pivotted['epoch'].diff() # add col to show diff between epoch\n",
    "cols = list(pivotted.columns)\n",
    "pivotted = pivotted[cols[0:2] + [cols[-1]] + cols[2:-1]]\n",
    "\n",
    "# make empty col that will flag trips\n",
    "pivotted['trip'] = float('nan')\n",
    "cols = list(pivotted.columns)\n",
    "pivotted = pivotted[cols[0:3] + [cols[-1]] + cols[3:-1]]\n",
    "\n",
    "def flag_trips(pivotted):\n",
    "    # add flags to indicate trips\n",
    "    trip_flag = 1\n",
    "    for i in [0] + list(pivotted[pivotted['epoch_diff'] > 1800].index):\n",
    "        pivotted.loc[i, 'trip'] = trip_flag\n",
    "        trip_flag += 1\n",
    "    pivotted['trip'] = pivotted['trip'].fillna(method='ffill')\n",
    "    pivotted['trip'] = pivotted['trip'].astype(int)\n",
    "\n",
    "flag_trips(pivotted)"
   ]
  },
  {
   "cell_type": "code",
   "execution_count": 190,
   "metadata": {},
   "outputs": [],
   "source": [
    "# filter trips\n",
    "def filter_trips(pivotted):\n",
    "    trips_to_filter_out = pivotted.groupby('trip')['epoch'].agg(lambda x: x.max() - x.min())\n",
    "    trips_to_filter_out = trips_to_filter_out[(trips_to_filter_out < 60) | (trips_to_filter_out > 43200)].index # keep trips w/ duration > 60 even if odo change is <= 0\n",
    "    pivotted = pivotted[~pivotted['trip'].isin(trips_to_filter_out)].reset_index(drop=True) # filter out\n",
    "    pivotted['epoch_diff'] = pivotted['epoch'].diff() # recalc epoch diff since some trips now \n",
    "    pivotted['trip'] = pivotted['trip'].replace({trip: i + 1 for i, trip in enumerate(pivotted['trip'].unique())}) # reset trip flags\n",
    "    return pivotted\n",
    "\n",
    "pivotted = filter_trips(pivotted)"
   ]
  },
  {
   "cell_type": "code",
   "execution_count": 191,
   "metadata": {},
   "outputs": [],
   "source": [
    "pivotted['temp_gap'] = pivotted['HvacEvap_Te_Actl'] - pivotted['HvacEvap_Te_Rq']\n",
    "# impute \n",
    "from sklearn.impute import KNNImputer\n",
    "def make_dummies_and_impute(trip_num):\n",
    "    cols_to_ffill = ['BrkTot_Tq_Actl', 'Veh_V_ActlEng', 'GearLvrPos_D_Actl','ApedPos_Pc_ActlArb', 'EngAout_N_Actl', 'HvacEvap_Te_Actl', 'HvacEvap_Te_Rq', 'HvacAirCond_B_Rq', 'BattULo_U_Actl', 'AirAmb_Te_ActlFilt', 'Outside_Air_Temp_Stat', 'OdometerMasterValue', 'VehLong2_A_Actl', 'temp_gap']\n",
    "    trip = pivotted[pivotted['trip'] == trip_num]\n",
    "    trip = trip[['epoch'] + list(trip.columns[4:])]\n",
    "    trip[cols_to_ffill] = trip[cols_to_ffill].fillna(method='ffill')\n",
    "    imputer = KNNImputer(weights='distance')\n",
    "    trip_one_hot_encoded = pd.get_dummies(trip)\n",
    "    trip = pd.DataFrame(imputer.fit_transform(trip_one_hot_encoded), index=trip.index, columns=trip_one_hot_encoded.columns)\n",
    "    return trip_one_hot_encoded\n",
    "\n",
    "pivotted_f = []\n",
    "trips_to_filter_out = []\n",
    "for trip_num in pivotted['trip'].unique():\n",
    "    try:\n",
    "        pivotted_f.append(make_dummies_and_impute(trip_num))\n",
    "    except ValueError:\n",
    "        trips_to_filter_out.append(trip_num)\n",
    "\n",
    "if trips_to_filter_out:\n",
    "    pivotted = pivotted[~pivotted['trip'].isin(trips_to_filter_out)].reset_index(drop=True) # filter out\n",
    "    pivotted['epoch_diff'] = pivotted['epoch'].diff() # recalc epoch diff since some trips now \n",
    "    pivotted['trip'] = pivotted['trip'].replace({trip: i + 1 for i, trip in enumerate(pivotted['trip'].unique())}) # reset trip flags\n",
    "    pivotted_f = [make_dummies_and_impute(trip_num) for trip_num in pivotted['trip'].unique()]\n",
    "    \n",
    "pivotted_f = pd.concat(pivotted_f)\n",
    "pivotted_f = pd.concat([pivotted[pivotted.columns[:4]], pivotted_f], axis=1)\n",
    "pivotted_f = pivotted_f.fillna(method='ffill').fillna(method='bfill') # remaining nans\n",
    "\n",
    "# reverse one-hot encoding\n",
    "categorical_vars = ['HvacBlwrFront_D_Stat', 'GearLvrPos_D_Actl', 'HvacAirCond_B_Rq', 'CoolantFanStepAct']\n",
    "for var in categorical_vars:\n",
    "    all_cols = pivotted_f.columns[17:]\n",
    "    rel_cols = [col for col in all_cols if col.startswith(var) ]\n",
    "    pivotted_f[var] = pivotted_f[rel_cols].idxmax(axis=1)\n",
    "\n",
    "for var in categorical_vars:\n",
    "    pivotted_f[var] = pivotted_f[var].map(lambda x: x[(x.index(var) + len(var) + 1):])\n",
    "\n",
    "pivotted_f = pivotted_f[list(pivotted_f.columns[:17]) + list(pivotted_f.columns[-4:])]"
   ]
  },
  {
   "cell_type": "code",
   "execution_count": 243,
   "metadata": {},
   "outputs": [],
   "source": [
    "\n",
    "df = pd.DataFrame(data={'portion':[1, 2, 3, 4], 'used':[1.0, 0.3, 0.0, 0.8]})\n",
    "def alert(c):\n",
    "  if c['used'] == 1.0:\n",
    "    return 'Full'\n",
    "  elif c['used'] == 0.0:\n",
    "    return 'Empty'\n",
    "  elif 0.0 < c['used'] < 1.0:\n",
    "    return 'Partial'\n",
    "  else:\n",
    "    return 'Undefined'\n",
    "df['alert'] = df.apply(alert, axis=1)\n"
   ]
  },
  {
   "cell_type": "code",
   "execution_count": 244,
   "metadata": {},
   "outputs": [
    {
     "data": {
      "text/html": [
       "<div>\n",
       "<style scoped>\n",
       "    .dataframe tbody tr th:only-of-type {\n",
       "        vertical-align: middle;\n",
       "    }\n",
       "\n",
       "    .dataframe tbody tr th {\n",
       "        vertical-align: top;\n",
       "    }\n",
       "\n",
       "    .dataframe thead th {\n",
       "        text-align: right;\n",
       "    }\n",
       "</style>\n",
       "<table border=\"1\" class=\"dataframe\">\n",
       "  <thead>\n",
       "    <tr style=\"text-align: right;\">\n",
       "      <th></th>\n",
       "      <th>portion</th>\n",
       "      <th>used</th>\n",
       "      <th>alert</th>\n",
       "    </tr>\n",
       "  </thead>\n",
       "  <tbody>\n",
       "    <tr>\n",
       "      <th>0</th>\n",
       "      <td>1</td>\n",
       "      <td>1.0</td>\n",
       "      <td>Full</td>\n",
       "    </tr>\n",
       "    <tr>\n",
       "      <th>1</th>\n",
       "      <td>2</td>\n",
       "      <td>0.3</td>\n",
       "      <td>Partial</td>\n",
       "    </tr>\n",
       "    <tr>\n",
       "      <th>2</th>\n",
       "      <td>3</td>\n",
       "      <td>0.0</td>\n",
       "      <td>Empty</td>\n",
       "    </tr>\n",
       "    <tr>\n",
       "      <th>3</th>\n",
       "      <td>4</td>\n",
       "      <td>0.8</td>\n",
       "      <td>Partial</td>\n",
       "    </tr>\n",
       "  </tbody>\n",
       "</table>\n",
       "</div>"
      ],
      "text/plain": [
       "   portion  used    alert\n",
       "0        1   1.0     Full\n",
       "1        2   0.3  Partial\n",
       "2        3   0.0    Empty\n",
       "3        4   0.8  Partial"
      ]
     },
     "execution_count": 244,
     "metadata": {},
     "output_type": "execute_result"
    }
   ],
   "source": [
    "df"
   ]
  },
  {
   "cell_type": "code",
   "execution_count": null,
   "metadata": {},
   "outputs": [],
   "source": []
  }
 ],
 "metadata": {
  "kernelspec": {
   "display_name": "Python 3",
   "language": "python",
   "name": "python3"
  },
  "language_info": {
   "codemirror_mode": {
    "name": "ipython",
    "version": 3
   },
   "file_extension": ".py",
   "mimetype": "text/x-python",
   "name": "python",
   "nbconvert_exporter": "python",
   "pygments_lexer": "ipython3",
   "version": "3.7.6"
  }
 },
 "nbformat": 4,
 "nbformat_minor": 4
}
